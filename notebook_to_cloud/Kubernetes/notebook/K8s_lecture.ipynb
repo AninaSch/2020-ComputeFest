{
 "cells": [
  {
   "cell_type": "markdown",
   "metadata": {
    "slideshow": {
     "slide_type": "slide"
    }
   },
   "source": [
    "# Lecture 25\n",
    "## December 3rd 2019\n",
    "### Kubernetes"
   ]
  },
  {
   "cell_type": "markdown",
   "metadata": {
    "slideshow": {
     "slide_type": "slide"
    }
   },
   "source": [
    "## Recap I:  The Goal\n",
    "\n",
    "- Remember that we want to find effective ways to deploy our apps."
   ]
  },
  {
   "cell_type": "markdown",
   "metadata": {
    "slideshow": {
     "slide_type": "fragment"
    }
   },
   "source": [
    "- This proves to be much more difficult than we might initially imagine."
   ]
  },
  {
   "cell_type": "markdown",
   "metadata": {
    "slideshow": {
     "slide_type": "fragment"
    }
   },
   "source": [
    "- We might develop our app on a specific hardware and OS."
   ]
  },
  {
   "cell_type": "markdown",
   "metadata": {
    "slideshow": {
     "slide_type": "fragment"
    }
   },
   "source": [
    "- When we release our app, there may be many problems for our clients:\n",
    "   * Different operating systems  \n",
    "   * Different package dependencies  \n",
    "   * Even strange behavior on different types of hardware"
   ]
  },
  {
   "cell_type": "markdown",
   "metadata": {
    "slideshow": {
     "slide_type": "subslide"
    }
   },
   "source": [
    "## Recap II:  Virtual Environments\n",
    "* We first tried to solve this with virtual environments:\n",
    "   - `virtualenv`, `conda`, etc."
   ]
  },
  {
   "cell_type": "markdown",
   "metadata": {
    "slideshow": {
     "slide_type": "fragment"
    }
   },
   "source": [
    "* This was a good start:\n",
    "   - For example, it removed some of the complexities associated with package dependencies."
   ]
  },
  {
   "cell_type": "markdown",
   "metadata": {
    "slideshow": {
     "slide_type": "fragment"
    }
   },
   "source": [
    "* However, it didn't solve some of the big, deeper problems:\n",
    "   - Operating system and hardware questions.\n",
    "   - Doesn't provide true emulation of the correct environment."
   ]
  },
  {
   "cell_type": "markdown",
   "metadata": {
    "slideshow": {
     "slide_type": "subslide"
    }
   },
   "source": [
    "## Recap III:  Virtual Machines\n",
    "* We learned that virtual machines were an excellent option."
   ]
  },
  {
   "cell_type": "markdown",
   "metadata": {
    "slideshow": {
     "slide_type": "fragment"
    }
   },
   "source": [
    "* A virtual machine is a machine running virtual hardware"
   ]
  },
  {
   "cell_type": "markdown",
   "metadata": {
    "slideshow": {
     "slide_type": "subslide"
    }
   },
   "source": [
    "* It contains its own operating system."
   ]
  },
  {
   "cell_type": "markdown",
   "metadata": {
    "slideshow": {
     "slide_type": "fragment"
    }
   },
   "source": [
    "* It provides true isolation, which is important for security."
   ]
  },
  {
   "cell_type": "markdown",
   "metadata": {
    "slideshow": {
     "slide_type": "fragment"
    }
   },
   "source": [
    "* Many other benefits including huge cost savings\n",
    "   - No need to have many separate servers."
   ]
  },
  {
   "cell_type": "markdown",
   "metadata": {
    "slideshow": {
     "slide_type": "fragment"
    }
   },
   "source": [
    "* Unfortunately, VMs can be heavy and slow.\n",
    "    - May be overkill for many applications."
   ]
  },
  {
   "cell_type": "markdown",
   "metadata": {
    "slideshow": {
     "slide_type": "subslide"
    }
   },
   "source": [
    "## Recap IV:  Containers\n",
    "* Next, we explored containers (mainly Docker)."
   ]
  },
  {
   "cell_type": "markdown",
   "metadata": {
    "slideshow": {
     "slide_type": "fragment"
    }
   },
   "source": [
    "* We learned that containers are like VMs, but not as isolated."
   ]
  },
  {
   "cell_type": "markdown",
   "metadata": {
    "slideshow": {
     "slide_type": "fragment"
    }
   },
   "source": [
    "* They contain a pretty isolated environment (OS, filesystem, etc), but they're not a full machine."
   ]
  },
  {
   "cell_type": "markdown",
   "metadata": {
    "slideshow": {
     "slide_type": "fragment"
    }
   },
   "source": [
    "* In this way, containers are lightweight but still provide a mechanism for apps to be run across platforms."
   ]
  },
  {
   "cell_type": "markdown",
   "metadata": {
    "slideshow": {
     "slide_type": "subslide"
    }
   },
   "source": [
    "* With this in mind, one can envision a \"container swarm\" \n",
    "   - Containers for all the apps!\n",
    "\n",
    "How can we manage such a thing?!"
   ]
  },
  {
   "cell_type": "markdown",
   "metadata": {
    "slideshow": {
     "slide_type": "subslide"
    }
   },
   "source": [
    "## Enter Container Management\n",
    "\n",
    "* So now everyone is developing their apps and bundling them in containers.\n",
    "* For best resource management and portability, applications should be runn in a container. "
   ]
  },
  {
   "cell_type": "markdown",
   "metadata": {
    "slideshow": {
     "slide_type": "subslide"
    }
   },
   "source": [
    "* These apps are available in a production environment (like a cloud provider, such as AWS, Google Cloud, or Microsoft Azure)."
   ]
  },
  {
   "cell_type": "markdown",
   "metadata": {
    "slideshow": {
     "slide_type": "fragment"
    }
   },
   "source": [
    "* People are using these containers (launching them, closing them, upgrading them)."
   ]
  },
  {
   "cell_type": "markdown",
   "metadata": {
    "slideshow": {
     "slide_type": "fragment"
    }
   },
   "source": [
    "* Sometimes containers go down due to an overload of requests or processing."
   ]
  },
  {
   "cell_type": "markdown",
   "metadata": {
    "slideshow": {
     "slide_type": "fragment"
    }
   },
   "source": [
    "### Managing these containers manually is difficult in a large-scale production environment."
   ]
  },
  {
   "cell_type": "markdown",
   "metadata": {
    "slideshow": {
     "slide_type": "subslide"
    }
   },
   "source": [
    "## Enter Kubernetes (AKA K8s)\n",
    "\n",
    "![](https://kubernetes.io/images/favicon.png)"
   ]
  },
  {
   "cell_type": "markdown",
   "metadata": {
    "slideshow": {
     "slide_type": "subslide"
    }
   },
   "source": [
    "* K8s does all this management for you!\n",
    "* K8s is an open-source platform for container management developed by Google.\n",
    "* It allows users to define rules for how container management should occur, and then it handles the rest!\n",
    "* Check out [kubernetes.io](https://kubernetes.io/) for more info and in-depth tutorials."
   ]
  },
  {
   "cell_type": "markdown",
   "metadata": {
    "slideshow": {
     "slide_type": "subslide"
    }
   },
   "source": [
    "# Kubernetes can do many useful things!"
   ]
  },
  {
   "cell_type": "markdown",
   "metadata": {
    "slideshow": {
     "slide_type": "fragment"
    }
   },
   "source": [
    "* Service discovery\n",
    "    - Give users/clients a single entry point to your application through a single URL.\n",
    "    - Provides encapsulation for the more sensitive parts of your application, like databases and passwords."
   ]
  },
  {
   "cell_type": "markdown",
   "metadata": {
    "slideshow": {
     "slide_type": "fragment"
    }
   },
   "source": [
    "* Load balancing\n",
    "   - We do not one container to be overloaded with too many requests.\n",
    "   - Increase the number of containers based off of utilization.\n",
    "   - More efficient use of hardware because multiple containers are run on the same machine, which reduces costs.\n",
    "   - Distribute network traffic to many container for stable production run-time."
   ]
  },
  {
   "cell_type": "markdown",
   "metadata": {
    "slideshow": {
     "slide_type": "subslide"
    }
   },
   "source": [
    "* Self-healing\n",
    "   - Restart failed containers.\n",
    "   - Kill unresponsive containers.\n",
    "   - Upgrade containers to a newer image."
   ]
  },
  {
   "cell_type": "markdown",
   "metadata": {
    "slideshow": {
     "slide_type": "fragment"
    }
   },
   "source": [
    "* Much, much more. See this [link](https://medium.com/platformer-blog/benefits-of-kubernetes-e6d5de39bc48) for a more detailed discussion of the benefits of Kubernetes."
   ]
  },
  {
   "cell_type": "markdown",
   "metadata": {
    "slideshow": {
     "slide_type": "subslide"
    }
   },
   "source": [
    "### The very basics of Kubernetes:  The cluster\n",
    "![](../fig/kubernetes_cluster.png)"
   ]
  },
  {
   "cell_type": "markdown",
   "metadata": {
    "slideshow": {
     "slide_type": "subslide"
    }
   },
   "source": [
    "* K8s works on a cluster of machines/nodes. This could be VMs on your local machine or a group of machines through a cloud provider.\n",
    "* The cluster includes one *master* node and at least one *worker* node."
   ]
  },
  {
   "cell_type": "markdown",
   "metadata": {
    "slideshow": {
     "slide_type": "subslide"
    }
   },
   "source": [
    "### The very basics of Kubernetes:  The master node\n",
    "* Main task: manage the worker node(s) and the containers need to run an application.\n",
    "* The master node consists of:\n",
    "   - An API server.\n",
    "   - A scheduler to assign a worker node for a new application.\n",
    "   - Controller manager:\n",
    "      * Keeps track of worker nodes\n",
    "      * Handles node failures\n",
    "      * Replicates containers if needed\n",
    "      * Provide endpoints to access the application from the outside world\n",
    "   - Cloud controller\n",
    "      * Communicate with cloud provide regarding resources such as nodes and IP addresses."
   ]
  },
  {
   "cell_type": "markdown",
   "metadata": {
    "slideshow": {
     "slide_type": "subslide"
    }
   },
   "source": [
    "![](../fig/kubernetes_master.png)"
   ]
  },
  {
   "cell_type": "markdown",
   "metadata": {
    "slideshow": {
     "slide_type": "subslide"
    }
   },
   "source": [
    "### The very basics of Kubernetes:  The worker node(s)\n",
    "* A worker node consists of:\n",
    "   - The container runtime (Docker).\n",
    "      * Package your app into a Docker container and push to a registry.\n",
    "      * K8s pulls a specified image and deploys it on a worker node.\n",
    "   - kubelet --- Talks to the API server and manages containers on its node.\n",
    "   - kube-proxy --- Load-balances network traffic between application components and the outside world."
   ]
  },
  {
   "cell_type": "markdown",
   "metadata": {
    "slideshow": {
     "slide_type": "subslide"
    }
   },
   "source": [
    "![](../fig/components-of-kubernetes_orig.png)\n",
    "Image taken from https://kubernetes.io/docs/concepts/overview/components/."
   ]
  },
  {
   "cell_type": "markdown",
   "metadata": {
    "slideshow": {
     "slide_type": "subslide"
    }
   },
   "source": [
    "### A Kubernetes Overview:  Running an Application in Kubernetes\n",
    "* Post a description of your app to the Kubernetes API server.\n",
    "   - The description includes:\n",
    "      * Repository for Docker images \n",
    "      * Relationship between containers\n",
    "      * Which ones need co-location (as in on the same machine)\n",
    "      * How many replicas are needed for each container"
   ]
  },
  {
   "cell_type": "markdown",
   "metadata": {
    "slideshow": {
     "slide_type": "subslide"
    }
   },
   "source": [
    "* Internal or external network services are also described.\n",
    "   - A lookup service is provided and a given service is exposed at a particular IP address.\n",
    "   - `kube-proxy` makes sure connections to the service are load balanced."
   ]
  },
  {
   "cell_type": "markdown",
   "metadata": {
    "slideshow": {
     "slide_type": "fragment"
    }
   },
   "source": [
    "* `master` makes sure that the deployed state of the application matches description."
   ]
  },
  {
   "cell_type": "markdown",
   "metadata": {
    "slideshow": {
     "slide_type": "slide"
    }
   },
   "source": [
    "## Exercise"
   ]
  }
 ],
 "metadata": {
  "celltoolbar": "Slideshow",
  "kernelspec": {
   "display_name": "Python 3",
   "language": "python",
   "name": "python3"
  },
  "language_info": {
   "codemirror_mode": {
    "name": "ipython",
    "version": 3
   },
   "file_extension": ".py",
   "mimetype": "text/x-python",
   "name": "python",
   "nbconvert_exporter": "python",
   "pygments_lexer": "ipython3",
   "version": "3.6.7"
  }
 },
 "nbformat": 4,
 "nbformat_minor": 2
}
