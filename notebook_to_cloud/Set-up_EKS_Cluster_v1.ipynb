{
 "cells": [
  {
   "cell_type": "markdown",
   "metadata": {},
   "source": [
    "# Creating an EKS Cluster using AWS"
   ]
  },
  {
   "cell_type": "markdown",
   "metadata": {},
   "source": [
    "### Install `kubectl`\n",
    "We want version Client Version: v1.16.3\n",
    "\n",
    "1. Install the Kubernetes command-line tool, [kubectl](https://kubernetes.io/docs/tasks/tools/install-kubectl/), so that you can communicate with Kubernetes clusters.\n",
    "    1. Follow the instructions in the link to install the proper version depending on your operating system (Linux, MacOS, or Windows). You should use version `v1.16.0`, but if you can't run it, don't worry about it.\n",
    "<hr>"
   ]
  },
  {
   "cell_type": "markdown",
   "metadata": {},
   "source": [
    "### Install AWS CLI version 1\n",
    "\n",
    "1. Follow the **Installing the AWS CLI Using pip** instructions [here](https://docs.aws.amazon.com/cli/latest/userguide/install-cliv1.html).\n",
    "2. Run `pip3 install awscli --upgrade --user`. If you do not have `pip3`, you can use `pip` as well.\n",
    "3. In the link above, skip down to the **Setting the Path to Include the AWS CLI** section. Select the appropriate link based on your operating system and following the instructions.\n",
    "4. Verify that AWS CLI is installed correctly by running `aws --version`.\n",
    "\n",
    "#### Configuring the AWS CLI\n",
    "You need to retrieve AWS credentials that allows your AWS CLI to access AWS resources.\n",
    "1. Sign into the [AWS console](https://aws.amazon.com/console/) as the *root user*. This simply requires that you sign in with the email and password you used to create your account.\n",
    "2. Choose your account name in the navigation bar at the top right, and then choose **My Security Credentials**.\n",
    "3. Expand the **Access keys (access key ID and secret access key)** section.\n",
    "4. Press **Create New Access Key**.\n",
    "5. Press **Download Key File** to download a CSV file that contains your new *AccessKeyId* and *SecretKey*. Keep this file somewhere where you can find it easily.\n",
    "\n",
    "Now, you can configure your AWS CLI with the credentials you just created and downloaded.  \n",
    "6. In your Terminal, run `aws configure`.\n",
    "    1. Enter your *AWS Access Key ID* from the file you downloaded.\n",
    "    2. Enter the *AWS Secret Access Key* from the file.\n",
    "    3. For *Default region name*, enter `us-east-1`. \n",
    "    4. For *Default output format*, enter `json`.\n",
    "    \n",
    "### Install *eksctl*\n",
    "1. Follow the instructions [here](https://docs.aws.amazon.com/eks/latest/userguide/getting-started-eksctl.html#w243aac11b7b5b9b7b1) under the \"**Install eksctl**\" section to install *eksctl* depending on your operating system.\n"
   ]
  },
  {
   "cell_type": "markdown",
   "metadata": {},
   "source": [
    "### Create a EKS cluster\n",
    "From the `notebook_to_cloud/` directory, run `eksctl create cluster -f cluster.yaml` to create an EKS cluster. This may take 10-15 minutes."
   ]
  },
  {
   "cell_type": "markdown",
   "metadata": {},
   "source": [
    "### Test your Cluster\n",
    "Follow the instructions [here](https://docs.aws.amazon.com/eks/latest/userguide/eks-guestbook.html) to deploy a test application on your cluster.  \n",
    "Remember to clean up your application once you're done.\n",
    "\n",
    "### Run `eksctl delete cluster -f cluster.yaml` to delete your cluster. If you do not delete you cluster, you will get charged extra by AWS."
   ]
  },
  {
   "cell_type": "markdown",
   "metadata": {},
   "source": []
  },
  {
   "cell_type": "code",
   "execution_count": null,
   "metadata": {},
   "outputs": [],
   "source": []
  },
  {
   "cell_type": "code",
   "execution_count": null,
   "metadata": {},
   "outputs": [],
   "source": []
  },
  {
   "cell_type": "code",
   "execution_count": null,
   "metadata": {},
   "outputs": [],
   "source": []
  },
  {
   "cell_type": "code",
   "execution_count": null,
   "metadata": {},
   "outputs": [],
   "source": []
  },
  {
   "cell_type": "code",
   "execution_count": null,
   "metadata": {},
   "outputs": [],
   "source": []
  },
  {
   "cell_type": "code",
   "execution_count": null,
   "metadata": {},
   "outputs": [],
   "source": []
  }
 ],
 "metadata": {
  "kernelspec": {
   "display_name": "Python 3",
   "language": "python",
   "name": "python3"
  },
  "language_info": {
   "codemirror_mode": {
    "name": "ipython",
    "version": 3
   },
   "file_extension": ".py",
   "mimetype": "text/x-python",
   "name": "python",
   "nbconvert_exporter": "python",
   "pygments_lexer": "ipython3",
   "version": "3.7.4"
  }
 },
 "nbformat": 4,
 "nbformat_minor": 2
}
