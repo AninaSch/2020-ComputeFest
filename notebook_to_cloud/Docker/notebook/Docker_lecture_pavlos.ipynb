{
 "cells": [
  {
   "cell_type": "markdown",
   "metadata": {
    "slideshow": {
     "slide_type": "slide"
    }
   },
   "source": [
    "\n",
    "# <img style=\"float: left; padding-right: 10px; width: 45px\" src=\"https://raw.githubusercontent.com/Harvard-IACS/2018-CS109A/master/content/styles/iacs.png\"> CS207 Systems Development for Computational Science\n",
    "\n",
    "## Lecture 15: Containers;  Beyond Virtual Environments\n",
    "### Thursday, October 24th 2019\n",
    "**Harvard University**<br/>\n",
    "**Fall 2019**<br/>\n",
    "**Instructors**: David Sondak\n",
    "**Guest Lecturer**: Pavlos Protopapas\n",
    "\n",
    "<hr style=\"height:2pt\">\n",
    "\n"
   ]
  },
  {
   "cell_type": "markdown",
   "metadata": {
    "slideshow": {
     "slide_type": "slide"
    }
   },
   "source": [
    "![dockers](../fig/dockers.jpg)"
   ]
  },
  {
   "cell_type": "code",
   "execution_count": 2,
   "metadata": {
    "slideshow": {
     "slide_type": "skip"
    }
   },
   "outputs": [
    {
     "data": {
      "text/html": [
       "<style>\n",
       "blockquote { background: #AEDE94; }\n",
       "h1 { \n",
       "    padding-top: 25px;\n",
       "    padding-bottom: 25px;\n",
       "    text-align: left; \n",
       "    padding-left: 10px;\n",
       "    background-color: #DDDDDD; \n",
       "    color: black;\n",
       "}\n",
       "h2 { \n",
       "    padding-top: 10px;\n",
       "    padding-bottom: 10px;\n",
       "    text-align: left; \n",
       "    padding-left: 5px;\n",
       "    background-color: #EEEEEE; \n",
       "    color: black;\n",
       "}\n",
       "\n",
       "div.exercise {\n",
       "\tbackground-color: #ffcccc;\n",
       "\tborder-color: #E9967A; \t\n",
       "\tborder-left: 5px solid #800080; \n",
       "\tpadding: 0.5em;\n",
       "}\n",
       "\n",
       "span.sub-q {\n",
       "\tfont-weight: bold;\n",
       "}\n",
       "div.theme {\n",
       "\tbackground-color: #DDDDDD;\n",
       "\tborder-color: #E9967A; \t\n",
       "\tborder-left: 5px solid #800080; \n",
       "\tpadding: 0.5em;\n",
       "\tfont-size: 18pt;\n",
       "}\n",
       "div.gc { \n",
       "\tbackground-color: #AEDE94;\n",
       "\tborder-color: #E9967A; \t \n",
       "\tborder-left: 5px solid #800080; \n",
       "\tpadding: 0.5em;\n",
       "\tfont-size: 12pt;\n",
       "}\n",
       "p.q1 { \n",
       "    padding-top: 5px;\n",
       "    padding-bottom: 5px;\n",
       "    text-align: left; \n",
       "    padding-left: 5px;\n",
       "    background-color: #EEEEEE; \n",
       "    color: black;\n",
       "}\n",
       "header {\n",
       "   padding-top: 35px;\n",
       "    padding-bottom: 35px;\n",
       "    text-align: left; \n",
       "    padding-left: 10px;\n",
       "    background-color: #DDDDDD; \n",
       "    color: black;\n",
       "}\n",
       "</style>\n",
       "\n"
      ],
      "text/plain": [
       "<IPython.core.display.HTML object>"
      ]
     },
     "execution_count": 2,
     "metadata": {},
     "output_type": "execute_result"
    }
   ],
   "source": [
    "#RUN THIS CELL \n",
    "import requests\n",
    "from IPython.core.display import HTML\n",
    "styles = requests.get(\"https://raw.githubusercontent.com/Harvard-IACS/2018-CS109A/master/content/styles/cs109.css\").text\n",
    "HTML(styles)"
   ]
  },
  {
   "cell_type": "markdown",
   "metadata": {
    "slideshow": {
     "slide_type": "slide"
    }
   },
   "source": [
    "# substitude teacher\n",
    "Pavlos Protopapas \n",
    "\n",
    "Base on what my kids tell me, a substitude teacher is when they are having fun and not paying attention"
   ]
  },
  {
   "cell_type": "markdown",
   "metadata": {
    "slideshow": {
     "slide_type": "slide"
    }
   },
   "source": [
    "# Last Time\n",
    "* Virtual environments\n",
    "* `virtualenv`, `conda`\n",
    "* Deploying packages"
   ]
  },
  {
   "cell_type": "markdown",
   "metadata": {
    "slideshow": {
     "slide_type": "slide"
    }
   },
   "source": [
    "# Today\n",
    "* Beyond virtual environments\n",
    "* Virtual machines\n",
    "* Containers\n",
    "* Docker and Singularity"
   ]
  },
  {
   "cell_type": "markdown",
   "metadata": {
    "slideshow": {
     "slide_type": "slide"
    }
   },
   "source": [
    "# Today -extra- \n",
    "If David asked ... this is what I covered in class today\n",
    "- Always use `git add .` .\n",
    "- If in troubles, use `git clone`, that is totally OK. \n",
    "- Always use jupyter notebooks, that is the way to go.\n",
    "- There is no difference between gradient and divergence. \n",
    "- Use anything but **vi**!"
   ]
  },
  {
   "cell_type": "markdown",
   "metadata": {
    "slideshow": {
     "slide_type": "slide"
    }
   },
   "source": [
    "# Virtual Environment Recap"
   ]
  },
  {
   "cell_type": "markdown",
   "metadata": {
    "slideshow": {
     "slide_type": "subslide"
    }
   },
   "source": [
    "## Virtual Environment Recap\n",
    "\n",
    "* Virtual environments are great for working in small development teams.\n",
    "* They provide a convenient, lightweight way to achieve code portability.\n",
    "* A fellow developer need only clone the repo, enter a virtual env, and run the environment (or requirements) file.\n",
    "* From that point on, the developer will have a consistent set of dependencies to those used by other developers on the same project."
   ]
  },
  {
   "cell_type": "markdown",
   "metadata": {
    "slideshow": {
     "slide_type": "slide"
    }
   },
   "source": [
    "### Some Possible Limitations\n",
    "* Virtual environments do not provide complete isolation.\n",
    "   - Just uses symlinks and changes to `PATH`.\n",
    "   - **Still depends on your operating system.**\n",
    "       - Several of you ran into this issue last time.\n",
    "   - Still needs to use global packages and dependencies of your operating system.\n",
    "\n",
    "How can we get almost complete isolation?"
   ]
  },
  {
   "cell_type": "markdown",
   "metadata": {
    "slideshow": {
     "slide_type": "slide"
    }
   },
   "source": [
    "# Virtual Machines"
   ]
  },
  {
   "cell_type": "markdown",
   "metadata": {
    "slideshow": {
     "slide_type": "slide"
    }
   },
   "source": [
    "## Virtual Machines\n",
    "* Virtual machines are at the other end of the spectrum.\n",
    "* A virtual machine (VM) is a file that acts like a separate computer system.\n",
    "* You can install a completely different operating system on this virtual machine.\n",
    "   - e.g. If you're running MacOS, you can create a VM and install Windows on it.\n",
    "* VMs have their own virtual hardware:  CPUs, memory, hard drives, etc."
   ]
  },
  {
   "cell_type": "markdown",
   "metadata": {
    "slideshow": {
     "slide_type": "slide"
    }
   },
   "source": [
    "* The VM is [sandboxed](https://en.wikipedia.org/wiki/Sandbox_(computer_security).\n",
    "   - This means that the software inside the VM can't affect the actual computer\n",
    "* This means that VMs are a safe place to test virus-infected software (e.g. malware) as well as run OSs that are different from the one on the local machine."
   ]
  },
  {
   "cell_type": "markdown",
   "metadata": {
    "slideshow": {
     "slide_type": "slide"
    }
   },
   "source": [
    "### Some Comments on Virtual Machines\n",
    "* The OS running on your computer is called the \"host\".\n",
    "   - OSs in a VM are called \"guests\".\n",
    "   - Multiple VMs can be run simultaneously.\n",
    "* A [hypervisor](https://en.wikipedia.org/wiki/Hypervisor) manages different VMs on servers.\n",
    "* Desktops usually just use the OS to run the VMs."
   ]
  },
  {
   "cell_type": "markdown",
   "metadata": {
    "slideshow": {
     "slide_type": "slide"
    }
   },
   "source": [
    "### More Comments on VMs\n",
    "* There is overhead associated with VMs.\n",
    "    - They may not be as fast as the host system.\n",
    "    - They may not have the same graphics capabilities.\n",
    "* They can take some time to start up (order of minutes).\n",
    "* They can help lower costs and can be more efficient.\n",
    "   - No need to spend money on physical hardware and cooling systems, for example.\n",
    "* [Best Virtual Machines of 2019](https://www.digitaltrends.com/computing/best-virtual-machines/)"
   ]
  },
  {
   "cell_type": "markdown",
   "metadata": {
    "slideshow": {
     "slide_type": "slide"
    }
   },
   "source": [
    "# Containers\n",
    "![Containers](../fig/containers.png)\n",
    "\n"
   ]
  },
  {
   "cell_type": "markdown",
   "metadata": {
    "slideshow": {
     "slide_type": "slide"
    }
   },
   "source": [
    "* Virtual environments help to make development and use of a code more streamlined.\n",
    "   - Given an OS and hardware, we can get the exact code environment set up."
   ]
  },
  {
   "cell_type": "markdown",
   "metadata": {
    "slideshow": {
     "slide_type": "slide"
    }
   },
   "source": [
    "* Virtual machines give almost full autonomy:  Virtual OS *and* hardware!\n",
    "   - Run a computer within a computer.\n",
    "   - Very secure.\n",
    "   - Cost efficient - no need to buy new machine and infrastructure.\n",
    "   - Can be slow for some needs."
   ]
  },
  {
   "cell_type": "markdown",
   "metadata": {
    "slideshow": {
     "slide_type": "slide"
    }
   },
   "source": [
    "* Is there a middle ground?"
   ]
  },
  {
   "cell_type": "markdown",
   "metadata": {
    "slideshow": {
     "slide_type": "slide"
    }
   },
   "source": [
    "## Containers\n",
    "* Containers only virtualize the OS (not the hardware).\n",
    "* They share the OS kernel of the hosting system.\n",
    "* Containers give the impression of a separate OS.\n",
    "   - However, since they're sharing the OS kernel, they are much cheaper than a VM"
   ]
  },
  {
   "cell_type": "markdown",
   "metadata": {
    "slideshow": {
     "slide_type": "slide"
    }
   },
   "source": [
    "* For example, you can create a container on a Mac but install an image of a Linux OS inside that container.\n",
    "* The container still works on the Mac OS.\n",
    "* But within the container it's like you are running Linux."
   ]
  },
  {
   "cell_type": "markdown",
   "metadata": {
    "slideshow": {
     "slide_type": "slide"
    }
   },
   "source": [
    "## Benefits of Containers\n",
    "* Containers are lightweight (they cost an order of magnitude less than a VM in memory footprint).\n",
    "* Their startup time is on the order of seconds (vs. minutes for VMs).\n",
    "* They provide *pseudo*-isolation.\n",
    "   - This means they're still pretty secure, but not as secure at a VM.\n",
    "* Because they're so lightweight, you can have many containers running at once on your system."
   ]
  },
  {
   "cell_type": "markdown",
   "metadata": {
    "slideshow": {
     "slide_type": "slide"
    }
   },
   "source": [
    "## Docker\n",
    "* Containers are extremely popular and their popularity is growing.\n",
    "* One of the first widely used containers was provided by [Docker](https://www.docker.com/).\n",
    "   - ~2013\n",
    "* Docker containers can be used to run websites and web applications.\n",
    "   - Multiple containers can be managed by services like  [Kubernetes](https://kubernetes.io/) or Elastic Container Service [ECS](https://aws.amazon.com/ecs/).  \n",
    "* Docker is extremely popular and used extensively and widely.\n",
    "   - Works great for local and private resources."
   ]
  },
  {
   "cell_type": "markdown",
   "metadata": {
    "slideshow": {
     "slide_type": "slide"
    }
   },
   "source": [
    "## Singularity\n",
    "* Recently, [Singularity](https://sylabs.io/) has emereged as a container provider with technology for *high performance computing*.\n",
    "* Integrates with scientific apps such as SLURM and MPI.\n",
    "* Efficient on parallel file systems.\n",
    "* Integrates with other container systems[...including Docker](https://sylabs.io/guides/3.4/user-guide/singularity_and_docker.html)!"
   ]
  },
  {
   "cell_type": "markdown",
   "metadata": {
    "slideshow": {
     "slide_type": "slide"
    }
   },
   "source": [
    "* See [Singularity:  Containers for Science](http://www.hpcadvisorycouncil.com/events/2017/stanford-workshop/pdf/GMKurtzer_Singularity_Keynote_Tuesday_02072017.pdf#43) for a nice overview.\n",
    "* See [Singularity: Scientific containers for mobility of compute](https://www.ncbi.nlm.nih.gov/pmc/articles/PMC5426675/) for the original introduction and a great review of the container landscape."
   ]
  },
  {
   "cell_type": "markdown",
   "metadata": {
    "slideshow": {
     "slide_type": "slide"
    }
   },
   "source": [
    "# Lecture Exercise"
   ]
  }
 ],
 "metadata": {
  "celltoolbar": "Slideshow",
  "kernelspec": {
   "display_name": "Python 3",
   "language": "python",
   "name": "python3"
  },
  "language_info": {
   "codemirror_mode": {
    "name": "ipython",
    "version": 3
   },
   "file_extension": ".py",
   "mimetype": "text/x-python",
   "name": "python",
   "nbconvert_exporter": "python",
   "pygments_lexer": "ipython3",
   "version": "3.6.7"
  }
 },
 "nbformat": 4,
 "nbformat_minor": 2
}
